{
 "cells": [
  {
   "cell_type": "code",
   "execution_count": 1,
   "metadata": {},
   "outputs": [
    {
     "name": "stdout",
     "output_type": "stream",
     "text": [
      "name is sony, id is 111, age is 20, faculty is eng\n",
      "name is kero, id is 222, age is 21, faculty is eng\n",
      "name is bola, id is 333, age is 19, faculty is eng\n"
     ]
    }
   ],
   "source": [
    "name= [0]*3\n",
    "id=[0]*3\n",
    "age=[0]*3\n",
    "faculty=[0]*3\n",
    "for i in range(3):\n",
    "    name[i]=input(\"enter your name\")\n",
    "    id[i]=input(\"enter your id\")\n",
    "    age[i]=input(\"enter your age\")\n",
    "    faculty[i]=input(\"enter your faculty\")\n",
    "for i in range(3):\n",
    "    print(f\"name is {name[i]}, id is {id[i]}, age is {age[i]}, faculty is {faculty[i]}\")"
   ]
  },
  {
   "cell_type": "code",
   "execution_count": 2,
   "metadata": {},
   "outputs": [
    {
     "name": "stdout",
     "output_type": "stream",
     "text": [
      "2\n"
     ]
    }
   ],
   "source": []
  },
  {
   "cell_type": "code",
   "execution_count": null,
   "metadata": {},
   "outputs": [],
   "source": []
  }
 ],
 "metadata": {
  "kernelspec": {
   "display_name": "Python 3",
   "language": "python",
   "name": "python3"
  },
  "language_info": {
   "codemirror_mode": {
    "name": "ipython",
    "version": 3
   },
   "file_extension": ".py",
   "mimetype": "text/x-python",
   "name": "python",
   "nbconvert_exporter": "python",
   "pygments_lexer": "ipython3",
   "version": "3.10.6"
  },
  "orig_nbformat": 4,
  "vscode": {
   "interpreter": {
    "hash": "8a5edab282632443219e051e4ade2d1d5bbc671c781051bf1437897cbdfea0f1"
   }
  }
 },
 "nbformat": 4,
 "nbformat_minor": 2
}
